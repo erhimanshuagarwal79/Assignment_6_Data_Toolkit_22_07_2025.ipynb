{
  "cells": [
    {
      "cell_type": "code",
      "source": [
        "name = \"Himanshu Agarwal\"\n",
        "Course = \"Data Analytics\"\n",
        "Assignmnet = \"Module-8>>Data_Toolkit\"\n",
        "Email = \"erhimanshuagarwal79@gmail.com\"\n",
        "Date = \"22/07/2025\""
      ],
      "metadata": {
        "id": "FMmFPDGu1Nu6"
      },
      "id": "FMmFPDGu1Nu6",
      "execution_count": null,
      "outputs": []
    },
    {
      "cell_type": "markdown",
      "id": "5ee364ea",
      "metadata": {
        "id": "5ee364ea"
      },
      "source": [
        "# Data Toolkit Assignment - Theory Questions"
      ]
    },
    {
      "cell_type": "markdown",
      "id": "ee5b5115",
      "metadata": {
        "id": "ee5b5115"
      },
      "source": [
        "###1. What is NumPy, and why is it widely used in Python"
      ]
    },
    {
      "cell_type": "markdown",
      "source": [
        "NumPy (Numerical Python) is a powerful Python library used for numerical computing. It provides support for arrays (especially multidimensional arrays), along with a collection of mathematical functions to operate on these arrays efficiently.\n",
        "**Why it is widely used:**\n",
        "- Efficient array computation\n",
        "- Vectorized operations (faster than loops)\n",
        "- Integration with C/C++/Fortran\n",
        "- Widely used in Data Science and Machine Learning workflows"
      ],
      "metadata": {
        "id": "2vfkD2TMzzyE"
      },
      "id": "2vfkD2TMzzyE"
    },
    {
      "cell_type": "markdown",
      "id": "09624efc",
      "metadata": {
        "id": "09624efc"
      },
      "source": [
        "###2. How does broadcasting work in NumPy"
      ]
    },
    {
      "cell_type": "markdown",
      "source": [
        "Broadcasting allows NumPy to perform arithmetic operations on arrays of different shapes. It automatically expands the smaller array so that it has the same shape as the larger array without copying data.\n",
        "Example:\n",
        "```python\n",
        "import numpy as np\n",
        "a = np.array([1, 2, 3])\n",
        "b = 2\n",
        "result = a + b  # b is broadcasted to match a's shape\n",
        "```"
      ],
      "metadata": {
        "id": "SbFdeC-uz3zp"
      },
      "id": "SbFdeC-uz3zp"
    },
    {
      "cell_type": "markdown",
      "id": "727f6c11",
      "metadata": {
        "id": "727f6c11"
      },
      "source": [
        "###3. What is a Pandas DataFrame"
      ]
    },
    {
      "cell_type": "markdown",
      "source": [
        "A Pandas DataFrame is a 2-dimensional labeled data structure with columns of potentially different types. It is similar to a spreadsheet or SQL table.\n",
        "```python\n",
        "import pandas as pd\n",
        "df = pd.DataFrame({'A': [1, 2], 'B': [3, 4]})\n",
        "```"
      ],
      "metadata": {
        "id": "S-mxaU9Nz7Jc"
      },
      "id": "S-mxaU9Nz7Jc"
    },
    {
      "cell_type": "markdown",
      "id": "5c0f4df0",
      "metadata": {
        "id": "5c0f4df0"
      },
      "source": [
        "###4. Explain the use of the groupby() method in Pandas"
      ]
    },
    {
      "cell_type": "markdown",
      "source": [
        "The `groupby()` method is used to split the data into groups based on some criteria, apply a function to each group independently, and then combine the results.\n",
        "```python\n",
        "df.groupby('column_name').mean()\n",
        "```"
      ],
      "metadata": {
        "id": "t_-XrWau0AFg"
      },
      "id": "t_-XrWau0AFg"
    },
    {
      "cell_type": "markdown",
      "id": "3532eb49",
      "metadata": {
        "id": "3532eb49"
      },
      "source": [
        "###5. Why is Seaborn preferred for statistical visualizations"
      ]
    },
    {
      "cell_type": "markdown",
      "source": [
        "Seaborn is built on top of Matplotlib and provides a high-level interface for drawing attractive and informative statistical graphics. It integrates well with Pandas and supports complex visualizations with minimal code.\n",
        "Examples: boxplots, violin plots, heatmaps, etc."
      ],
      "metadata": {
        "id": "al930B6N0Cvr"
      },
      "id": "al930B6N0Cvr"
    },
    {
      "cell_type": "markdown",
      "id": "e309da9b",
      "metadata": {
        "id": "e309da9b"
      },
      "source": [
        "###6. What are the differences between NumPy arrays and Python lists"
      ]
    },
    {
      "cell_type": "markdown",
      "source": [
        "- NumPy arrays are more compact and faster.\n",
        "- Arrays support vectorized operations.\n",
        "- NumPy provides many functions for mathematical/statistical operations.\n",
        "- Lists can store heterogeneous data, while NumPy arrays are homogeneous.\n"
      ],
      "metadata": {
        "id": "nonkTfFK0FXq"
      },
      "id": "nonkTfFK0FXq"
    },
    {
      "cell_type": "markdown",
      "id": "88839141",
      "metadata": {
        "id": "88839141"
      },
      "source": [
        "###7. What is a heatmap, and when should it be used"
      ]
    },
    {
      "cell_type": "markdown",
      "source": [
        "A heatmap is a graphical representation of data where values are represented by color. It is commonly used to show correlation matrices or to visualize feature importance.\n",
        "```python\n",
        "import seaborn as sns\n",
        "sns.heatmap(data.corr(), annot=True)\n",
        "```"
      ],
      "metadata": {
        "id": "AQNlRw2c0IUA"
      },
      "id": "AQNlRw2c0IUA"
    },
    {
      "cell_type": "markdown",
      "id": "eeb20b57",
      "metadata": {
        "id": "eeb20b57"
      },
      "source": [
        "###8. What does the term “vectorized operation” mean in NumPy"
      ]
    },
    {
      "cell_type": "markdown",
      "source": [
        "Vectorized operations allow operations to be applied to entire arrays without the need for explicit loops, which improves performance.\n",
        "```python\n",
        "a = np.array([1, 2, 3])\n",
        "b = a * 2  # vectorized\n",
        "```"
      ],
      "metadata": {
        "id": "k7Btb9OM0Kj6"
      },
      "id": "k7Btb9OM0Kj6"
    },
    {
      "cell_type": "markdown",
      "id": "1ab54652",
      "metadata": {
        "id": "1ab54652"
      },
      "source": [
        "###9. How does Matplotlib differ from Plotly"
      ]
    },
    {
      "cell_type": "markdown",
      "source": [
        "Matplotlib is a static plotting library ideal for simple and custom plots. Plotly is an interactive plotting library that supports zooming, tooltips, and dynamic visuals.\n",
        "Plotly is often used in dashboards and web applications."
      ],
      "metadata": {
        "id": "6Pct-xnH0MwB"
      },
      "id": "6Pct-xnH0MwB"
    },
    {
      "cell_type": "markdown",
      "id": "ae7d7771",
      "metadata": {
        "id": "ae7d7771"
      },
      "source": [
        "###10. What is the significance of hierarchical indexing in Pandas"
      ]
    },
    {
      "cell_type": "markdown",
      "source": [
        "Hierarchical indexing (MultiIndex) allows you to have multiple levels of indexing on a DataFrame, enabling more complex data analysis and manipulation.\n",
        "```python\n",
        "df = df.set_index(['state', 'year'])\n",
        "```"
      ],
      "metadata": {
        "id": "jcOz511I0PXh"
      },
      "id": "jcOz511I0PXh"
    },
    {
      "cell_type": "markdown",
      "id": "84669800",
      "metadata": {
        "id": "84669800"
      },
      "source": [
        "###11. What is the role of Seaborn’s pairplot() function"
      ]
    },
    {
      "cell_type": "markdown",
      "source": [
        "The `pairplot()` function creates pairwise scatter plots for all numerical columns in a dataset, useful for exploring relationships between variables.\n",
        "```python\n",
        "sns.pairplot(df)\n",
        "```"
      ],
      "metadata": {
        "id": "D4lpp9-G0SPi"
      },
      "id": "D4lpp9-G0SPi"
    },
    {
      "cell_type": "markdown",
      "id": "4342b9e2",
      "metadata": {
        "id": "4342b9e2"
      },
      "source": [
        "###12. What is the purpose of the describe() function in Pandas"
      ]
    },
    {
      "cell_type": "markdown",
      "source": [
        "It provides a statistical summary of numeric columns, including count, mean, std, min, max, and percentiles.\n",
        "```python\n",
        "df.describe()\n",
        "```"
      ],
      "metadata": {
        "id": "h05ESG5O0U5w"
      },
      "id": "h05ESG5O0U5w"
    },
    {
      "cell_type": "markdown",
      "id": "b1fc36ca",
      "metadata": {
        "id": "b1fc36ca"
      },
      "source": [
        "###13. Why is handling missing data important in Pandas"
      ]
    },
    {
      "cell_type": "markdown",
      "source": [
        "Handling missing data is crucial for maintaining data integrity and ensuring accurate analysis. Pandas provides methods like `.isnull()`, `.dropna()`, and `.fillna()` to deal with missing values.\n"
      ],
      "metadata": {
        "id": "-JXFCUNn0X6X"
      },
      "id": "-JXFCUNn0X6X"
    },
    {
      "cell_type": "markdown",
      "id": "56f78809",
      "metadata": {
        "id": "56f78809"
      },
      "source": [
        "###14. What are the benefits of using Plotly for data visualization"
      ]
    },
    {
      "cell_type": "markdown",
      "source": [
        "- Interactive plots\n",
        "- Supports 3D and web-friendly visualizations\n",
        "- Good for dashboards and exploratory data analysis\n"
      ],
      "metadata": {
        "id": "eW5ET8FR0aFA"
      },
      "id": "eW5ET8FR0aFA"
    },
    {
      "cell_type": "markdown",
      "id": "2573eeed",
      "metadata": {
        "id": "2573eeed"
      },
      "source": [
        "###15. How does NumPy handle multidimensional arrays"
      ]
    },
    {
      "cell_type": "markdown",
      "source": [
        "NumPy uses the `ndarray` object to handle arrays with any number of dimensions. It supports efficient slicing, indexing, and mathematical operations.\n",
        "```python\n",
        "arr = np.array([[1, 2], [3, 4]])\n",
        "```"
      ],
      "metadata": {
        "id": "3Mn_de8G0cDo"
      },
      "id": "3Mn_de8G0cDo"
    },
    {
      "cell_type": "markdown",
      "id": "88a80f58",
      "metadata": {
        "id": "88a80f58"
      },
      "source": [
        "###16. What is the role of Bokeh in data visualization"
      ]
    },
    {
      "cell_type": "markdown",
      "source": [
        "Bokeh is a Python library for creating interactive visualizations for web browsers. It is good for streaming data and building dashboards."
      ],
      "metadata": {
        "id": "Aetas_0Q0fEf"
      },
      "id": "Aetas_0Q0fEf"
    },
    {
      "cell_type": "markdown",
      "id": "f5e3e431",
      "metadata": {
        "id": "f5e3e431"
      },
      "source": [
        "###17. Explain the difference between apply() and map() in Pandas"
      ]
    },
    {
      "cell_type": "markdown",
      "source": [
        "- `map()` works only on Series and is used for element-wise operations.\n",
        "- `apply()` works on both Series and DataFrames and can apply any function along an axis."
      ],
      "metadata": {
        "id": "tmJodzpa0hKR"
      },
      "id": "tmJodzpa0hKR"
    },
    {
      "cell_type": "markdown",
      "id": "bfe2fce1",
      "metadata": {
        "id": "bfe2fce1"
      },
      "source": [
        "###18. What are some advanced features of NumPy"
      ]
    },
    {
      "cell_type": "markdown",
      "source": [
        "- Broadcasting\n",
        "- Masked arrays\n",
        "- Memory-mapped files\n",
        "- Linear algebra (np.linalg)\n",
        "- Fourier transforms\n",
        "- Random number generation\n"
      ],
      "metadata": {
        "id": "sgy2Pqkh0jV_"
      },
      "id": "sgy2Pqkh0jV_"
    },
    {
      "cell_type": "markdown",
      "id": "b6923952",
      "metadata": {
        "id": "b6923952"
      },
      "source": [
        "###19. How does Pandas simplify time series analysis"
      ]
    },
    {
      "cell_type": "markdown",
      "source": [
        "- Built-in date parsing\n",
        "- Date-based indexing\n",
        "- Resampling\n",
        "- Rolling windows\n",
        "```python\n",
        "df.resample('M').mean()\n",
        "```"
      ],
      "metadata": {
        "id": "2wmqA4Ze0mQ_"
      },
      "id": "2wmqA4Ze0mQ_"
    },
    {
      "cell_type": "markdown",
      "id": "306e74e0",
      "metadata": {
        "id": "306e74e0"
      },
      "source": [
        "###20. What is the role of a pivot table in Pandas"
      ]
    },
    {
      "cell_type": "markdown",
      "source": [
        "Pivot tables summarize data in a tabular format. They allow you to aggregate and reorganize data efficiently.\n",
        "```python\n",
        "df.pivot_table(index='A', columns='B', values='C', aggfunc='mean')\n",
        "```"
      ],
      "metadata": {
        "id": "IFL4l5QW0oUg"
      },
      "id": "IFL4l5QW0oUg"
    },
    {
      "cell_type": "markdown",
      "id": "e96414ce",
      "metadata": {
        "id": "e96414ce"
      },
      "source": [
        "###21. Why is NumPy’s array slicing faster than Python’s list slicing"
      ]
    },
    {
      "cell_type": "markdown",
      "source": [
        "NumPy arrays use contiguous memory and are implemented in C, which makes slicing and access faster compared to Python lists."
      ],
      "metadata": {
        "id": "p7rbXcnQ0qZI"
      },
      "id": "p7rbXcnQ0qZI"
    },
    {
      "cell_type": "markdown",
      "id": "a68ffeb8",
      "metadata": {
        "id": "a68ffeb8"
      },
      "source": [
        "###22. What are some common use cases for Seaborn"
      ]
    },
    {
      "cell_type": "markdown",
      "source": [
        "- Statistical plotting (violin, box, bar)\n",
        "- Correlation heatmaps\n",
        "- Pairwise relationships\n",
        "- Distribution plots\n"
      ],
      "metadata": {
        "id": "p4nNumbv0slf"
      },
      "id": "p4nNumbv0slf"
    },
    {
      "cell_type": "markdown",
      "id": "85a6c04f",
      "metadata": {
        "id": "85a6c04f"
      },
      "source": [
        "# Practical Questions - Data Toolkit"
      ]
    },
    {
      "cell_type": "markdown",
      "id": "90bc636e",
      "metadata": {
        "id": "90bc636e"
      },
      "source": [
        "###1. How do you create a 2D NumPy array and calculate the sum of each row"
      ]
    },
    {
      "cell_type": "code",
      "execution_count": 1,
      "id": "134e14f2",
      "metadata": {
        "colab": {
          "base_uri": "https://localhost:8080/"
        },
        "id": "134e14f2",
        "outputId": "adfbcb38-66e8-4d9f-bc8a-f993ec5bba23"
      },
      "outputs": [
        {
          "output_type": "stream",
          "name": "stdout",
          "text": [
            "Array:\n",
            " [[1 2 3]\n",
            " [4 5 6]]\n",
            "Row-wise sum: [ 6 15]\n"
          ]
        }
      ],
      "source": [
        "import numpy as np\n",
        "array = np.array([[1, 2, 3], [4, 5, 6]])\n",
        "row_sums = np.sum(array, axis=1)\n",
        "print(\"Array:\\n\", array)\n",
        "print(\"Row-wise sum:\", row_sums)"
      ]
    },
    {
      "cell_type": "markdown",
      "id": "151cf724",
      "metadata": {
        "id": "151cf724"
      },
      "source": [
        "###2. Write a Pandas script to find the mean of a specific column in a DataFrame"
      ]
    },
    {
      "cell_type": "code",
      "execution_count": 2,
      "id": "09ecfc14",
      "metadata": {
        "colab": {
          "base_uri": "https://localhost:8080/"
        },
        "id": "09ecfc14",
        "outputId": "99e440fa-3613-4bc6-e932-0f75da414e9b"
      },
      "outputs": [
        {
          "output_type": "stream",
          "name": "stdout",
          "text": [
            "Mean of column A: 20.0\n"
          ]
        }
      ],
      "source": [
        "import pandas as pd\n",
        "df = pd.DataFrame({'A': [10, 20, 30], 'B': [1, 2, 3]})\n",
        "mean_a = df['A'].mean()\n",
        "print(\"Mean of column A:\", mean_a)"
      ]
    },
    {
      "cell_type": "markdown",
      "id": "7200d086",
      "metadata": {
        "id": "7200d086"
      },
      "source": [
        "###3. Create a scatter plot using Matplotlib"
      ]
    },
    {
      "cell_type": "code",
      "execution_count": 3,
      "id": "35eb4ec1",
      "metadata": {
        "colab": {
          "base_uri": "https://localhost:8080/",
          "height": 472
        },
        "id": "35eb4ec1",
        "outputId": "c41aaa7b-99d5-45e3-d6b8-b70f270803e2"
      },
      "outputs": [
        {
          "output_type": "display_data",
          "data": {
            "text/plain": [
              "<Figure size 640x480 with 1 Axes>"
            ],
            "image/png": "[encoded data removed]"
          },
          "metadata": {}
        }
      ],
      "source": [
        "import matplotlib.pyplot as plt\n",
        "x = [1, 2, 3, 4]\n",
        "y = [10, 20, 25, 30]\n",
        "plt.scatter(x, y)\n",
        "plt.title(\"Scatter Plot\")\n",
        "plt.xlabel(\"X-axis\")\n",
        "plt.ylabel(\"Y-axis\")\n",
        "plt.show()"
      ]
    },
    {
      "cell_type": "markdown",
      "id": "1920013b",
      "metadata": {
        "id": "1920013b"
      },
      "source": [
        "###4. How do you calculate the correlation matrix using Seaborn and visualize it with a heatmap"
      ]
    },
    {
      "cell_type": "code",
      "execution_count": 4,
      "id": "758f4537",
      "metadata": {
        "colab": {
          "base_uri": "https://localhost:8080/",
          "height": 452
        },
        "id": "758f4537",
        "outputId": "4ffa1a07-a4ac-4805-8ca0-729754352cc8"
      },
      "outputs": [
        {
          "output_type": "display_data",
          "data": {
            "text/plain": [
              "<Figure size 640x480 with 2 Axes>"
            ],
            "image/png": "[encoded data removed]"
          },
          "metadata": {}
        }
      ],
      "source": [
        "import seaborn as sns\n",
        "import pandas as pd\n",
        "import numpy as np\n",
        "df = pd.DataFrame(np.random.rand(5, 3), columns=['A', 'B', 'C'])\n",
        "corr = df.corr()\n",
        "sns.heatmap(corr, annot=True)\n",
        "plt.title(\"Correlation Heatmap\")\n",
        "plt.show()"
      ]
    },
    {
      "cell_type": "markdown",
      "id": "94e3b764",
      "metadata": {
        "id": "94e3b764"
      },
      "source": [
        "###5. Generate a bar plot using Plotly"
      ]
    },
    {
      "cell_type": "code",
      "execution_count": 5,
      "id": "3332b60e",
      "metadata": {
        "colab": {
          "base_uri": "https://localhost:8080/",
          "height": 542
        },
        "id": "3332b60e",
        "outputId": "f562deb1-80ce-4340-ed73-d8e4f810771d"
      },
      "outputs": [
        {
          "output_type": "display_data",
          "data": {
            "text/html": [
              "<html>\n",
              "<head><meta charset=\"utf-8\" /></head>\n",
              "<body>\n",
              "    <div>            <script src=\"https://cdnjs.cloudflare.com/ajax/libs/mathjax/2.7.5/MathJax.js?config=TeX-AMS-MML_SVG\"></script><script type=\"text/javascript\">if (window.MathJax && window.MathJax.Hub && window.MathJax.Hub.Config) {window.MathJax.Hub.Config({SVG: {font: \"STIX-Web\"}});}</script>                <script type=\"text/javascript\">window.PlotlyConfig = {MathJaxConfig: 'local'};</script>\n",
              "        <script charset=\"utf-8\" src=\"https://cdn.plot.ly/plotly-2.35.2.min.js\"></script>                <div id=\"da84a2f8-8a12-4c79-a812-493503f6c4ba\" class=\"plotly-graph-div\" style=\"height:525px; width:100%;\"></div>            <script type=\"text/javascript\">                                    window.PLOTLYENV=window.PLOTLYENV || {};                                    if (document.getElementById(\"da84a2f8-8a12-4c79-a812-493503f6c4ba\")) {                    Plotly.newPlot(                        \"da84a2f8-8a12-4c79-a812-493503f6c4ba\",                        [{\"alignmentgroup\":\"True\",\"hovertemplate\":\"Fruits=%{x}\\u003cbr\\u003eCount=%{y}\\u003cextra\\u003e\\u003c\\u002fextra\\u003e\",\"legendgroup\":\"\",\"marker\":{\"color\":\"#636efa\",\"pattern\":{\"shape\":\"\"}},\"name\":\"\",\"offsetgroup\":\"\",\"orientation\":\"v\",\"showlegend\":false,\"textposition\":\"auto\",\"x\":[\"Apple\",\"Banana\",\"Orange\"],\"xaxis\":\"x\",\"y\":[10,15,7],\"yaxis\":\"y\",\"type\":\"bar\"}],                        {\"template\":{\"data\":{\"histogram2dcontour\":[{\"type\":\"histogram2dcontour\",\"colorbar\":{\"outlinewidth\":0,\"ticks\":\"\"},\"colorscale\":[[0.0,\"#0d0887\"],[0.1111111111111111,\"#46039f\"],[0.2222222222222222,\"#7201a8\"],[0.3333333333333333,\"#9c179e\"],[0.4444444444444444,\"#bd3786\"],[0.5555555555555556,\"#d8576b\"],[0.6666666666666666,\"#ed7953\"],[0.7777777777777778,\"#fb9f3a\"],[0.8888888888888888,\"#fdca26\"],[1.0,\"#f0f921\"]]}],\"choropleth\":[{\"type\":\"choropleth\",\"colorbar\":{\"outlinewidth\":0,\"ticks\":\"\"}}],\"histogram2d\":[{\"type\":\"histogram2d\",\"colorbar\":{\"outlinewidth\":0,\"ticks\":\"\"},\"colorscale\":[[0.0,\"#0d0887\"],[0.1111111111111111,\"#46039f\"],[0.2222222222222222,\"#7201a8\"],[0.3333333333333333,\"#9c179e\"],[0.4444444444444444,\"#bd3786\"],[0.5555555555555556,\"#d8576b\"],[0.6666666666666666,\"#ed7953\"],[0.7777777777777778,\"#fb9f3a\"],[0.8888888888888888,\"#fdca26\"],[1.0,\"#f0f921\"]]}],\"heatmap\":[{\"type\":\"heatmap\",\"colorbar\":{\"outlinewidth\":0,\"ticks\":\"\"},\"colorscale\":[[0.0,\"#0d0887\"],[0.1111111111111111,\"#46039f\"],[0.2222222222222222,\"#7201a8\"],[0.3333333333333333,\"#9c179e\"],[0.4444444444444444,\"#bd3786\"],[0.5555555555555556,\"#d8576b\"],[0.6666666666666666,\"#ed7953\"],[0.7777777777777778,\"#fb9f3a\"],[0.8888888888888888,\"#fdca26\"],[1.0,\"#f0f921\"]]}],\"heatmapgl\":[{\"type\":\"heatmapgl\",\"colorbar\":{\"outlinewidth\":0,\"ticks\":\"\"},\"colorscale\":[[0.0,\"#0d0887\"],[0.1111111111111111,\"#46039f\"],[0.2222222222222222,\"#7201a8\"],[0.3333333333333333,\"#9c179e\"],[0.4444444444444444,\"#bd3786\"],[0.5555555555555556,\"#d8576b\"],[0.6666666666666666,\"#ed7953\"],[0.7777777777777778,\"#fb9f3a\"],[0.8888888888888888,\"#fdca26\"],[1.0,\"#f0f921\"]]}],\"contourcarpet\":[{\"type\":\"contourcarpet\",\"colorbar\":{\"outlinewidth\":0,\"ticks\":\"\"}}],\"contour\":[{\"type\":\"contour\",\"colorbar\":{\"outlinewidth\":0,\"ticks\":\"\"},\"colorscale\":[[0.0,\"#0d0887\"],[0.1111111111111111,\"#46039f\"],[0.2222222222222222,\"#7201a8\"],[0.3333333333333333,\"#9c179e\"],[0.4444444444444444,\"#bd3786\"],[0.5555555555555556,\"#d8576b\"],[0.6666666666666666,\"#ed7953\"],[0.7777777777777778,\"#fb9f3a\"],[0.8888888888888888,\"#fdca26\"],[1.0,\"#f0f921\"]]}],\"surface\":[{\"type\":\"surface\",\"colorbar\":{\"outlinewidth\":0,\"ticks\":\"\"},\"colorscale\":[[0.0,\"#0d0887\"],[0.1111111111111111,\"#46039f\"],[0.2222222222222222,\"#7201a8\"],[0.3333333333333333,\"#9c179e\"],[0.4444444444444444,\"#bd3786\"],[0.5555555555555556,\"#d8576b\"],[0.6666666666666666,\"#ed7953\"],[0.7777777777777778,\"#fb9f3a\"],[0.8888888888888888,\"#fdca26\"],[1.0,\"#f0f921\"]]}],\"mesh3d\":[{\"type\":\"mesh3d\",\"colorbar\":{\"outlinewidth\":0,\"ticks\":\"\"}}],\"scatter\":[{\"fillpattern\":{\"fillmode\":\"overlay\",\"size\":10,\"solidity\":0.2},\"type\":\"scatter\"}],\"parcoords\":[{\"type\":\"parcoords\",\"line\":{\"colorbar\":{\"outlinewidth\":0,\"ticks\":\"\"}}}],\"scatterpolargl\":[{\"type\":\"scatterpolargl\",\"marker\":{\"colorbar\":{\"outlinewidth\":0,\"ticks\":\"\"}}}],\"bar\":[{\"error_x\":{\"color\":\"#2a3f5f\"},\"error_y\":{\"color\":\"#2a3f5f\"},\"marker\":{\"line\":{\"color\":\"#E5ECF6\",\"width\":0.5},\"pattern\":{\"fillmode\":\"overlay\",\"size\":10,\"solidity\":0.2}},\"type\":\"bar\"}],\"scattergeo\":[{\"type\":\"scattergeo\",\"marker\":{\"colorbar\":{\"outlinewidth\":0,\"ticks\":\"\"}}}],\"scatterpolar\":[{\"type\":\"scatterpolar\",\"marker\":{\"colorbar\":{\"outlinewidth\":0,\"ticks\":\"\"}}}],\"histogram\":[{\"marker\":{\"pattern\":{\"fillmode\":\"overlay\",\"size\":10,\"solidity\":0.2}},\"type\":\"histogram\"}],\"scattergl\":[{\"type\":\"scattergl\",\"marker\":{\"colorbar\":{\"outlinewidth\":0,\"ticks\":\"\"}}}],\"scatter3d\":[{\"type\":\"scatter3d\",\"line\":{\"colorbar\":{\"outlinewidth\":0,\"ticks\":\"\"}},\"marker\":{\"colorbar\":{\"outlinewidth\":0,\"ticks\":\"\"}}}],\"scattermapbox\":[{\"type\":\"scattermapbox\",\"marker\":{\"colorbar\":{\"outlinewidth\":0,\"ticks\":\"\"}}}],\"scatterternary\":[{\"type\":\"scatterternary\",\"marker\":{\"colorbar\":{\"outlinewidth\":0,\"ticks\":\"\"}}}],\"scattercarpet\":[{\"type\":\"scattercarpet\",\"marker\":{\"colorbar\":{\"outlinewidth\":0,\"ticks\":\"\"}}}],\"carpet\":[{\"aaxis\":{\"endlinecolor\":\"#2a3f5f\",\"gridcolor\":\"white\",\"linecolor\":\"white\",\"minorgridcolor\":\"white\",\"startlinecolor\":\"#2a3f5f\"},\"baxis\":{\"endlinecolor\":\"#2a3f5f\",\"gridcolor\":\"white\",\"linecolor\":\"white\",\"minorgridcolor\":\"white\",\"startlinecolor\":\"#2a3f5f\"},\"type\":\"carpet\"}],\"table\":[{\"cells\":{\"fill\":{\"color\":\"#EBF0F8\"},\"line\":{\"color\":\"white\"}},\"header\":{\"fill\":{\"color\":\"#C8D4E3\"},\"line\":{\"color\":\"white\"}},\"type\":\"table\"}],\"barpolar\":[{\"marker\":{\"line\":{\"color\":\"#E5ECF6\",\"width\":0.5},\"pattern\":{\"fillmode\":\"overlay\",\"size\":10,\"solidity\":0.2}},\"type\":\"barpolar\"}],\"pie\":[{\"automargin\":true,\"type\":\"pie\"}]},\"layout\":{\"autotypenumbers\":\"strict\",\"colorway\":[\"#636efa\",\"#EF553B\",\"#00cc96\",\"#ab63fa\",\"#FFA15A\",\"#19d3f3\",\"#FF6692\",\"#B6E880\",\"#FF97FF\",\"#FECB52\"],\"font\":{\"color\":\"#2a3f5f\"},\"hovermode\":\"closest\",\"hoverlabel\":{\"align\":\"left\"},\"paper_bgcolor\":\"white\",\"plot_bgcolor\":\"#E5ECF6\",\"polar\":{\"bgcolor\":\"#E5ECF6\",\"angularaxis\":{\"gridcolor\":\"white\",\"linecolor\":\"white\",\"ticks\":\"\"},\"radialaxis\":{\"gridcolor\":\"white\",\"linecolor\":\"white\",\"ticks\":\"\"}},\"ternary\":{\"bgcolor\":\"#E5ECF6\",\"aaxis\":{\"gridcolor\":\"white\",\"linecolor\":\"white\",\"ticks\":\"\"},\"baxis\":{\"gridcolor\":\"white\",\"linecolor\":\"white\",\"ticks\":\"\"},\"caxis\":{\"gridcolor\":\"white\",\"linecolor\":\"white\",\"ticks\":\"\"}},\"coloraxis\":{\"colorbar\":{\"outlinewidth\":0,\"ticks\":\"\"}},\"colorscale\":{\"sequential\":[[0.0,\"#0d0887\"],[0.1111111111111111,\"#46039f\"],[0.2222222222222222,\"#7201a8\"],[0.3333333333333333,\"#9c179e\"],[0.4444444444444444,\"#bd3786\"],[0.5555555555555556,\"#d8576b\"],[0.6666666666666666,\"#ed7953\"],[0.7777777777777778,\"#fb9f3a\"],[0.8888888888888888,\"#fdca26\"],[1.0,\"#f0f921\"]],\"sequentialminus\":[[0.0,\"#0d0887\"],[0.1111111111111111,\"#46039f\"],[0.2222222222222222,\"#7201a8\"],[0.3333333333333333,\"#9c179e\"],[0.4444444444444444,\"#bd3786\"],[0.5555555555555556,\"#d8576b\"],[0.6666666666666666,\"#ed7953\"],[0.7777777777777778,\"#fb9f3a\"],[0.8888888888888888,\"#fdca26\"],[1.0,\"#f0f921\"]],\"diverging\":[[0,\"#8e0152\"],[0.1,\"#c51b7d\"],[0.2,\"#de77ae\"],[0.3,\"#f1b6da\"],[0.4,\"#fde0ef\"],[0.5,\"#f7f7f7\"],[0.6,\"#e6f5d0\"],[0.7,\"#b8e186\"],[0.8,\"#7fbc41\"],[0.9,\"#4d9221\"],[1,\"#276419\"]]},\"xaxis\":{\"gridcolor\":\"white\",\"linecolor\":\"white\",\"ticks\":\"\",\"title\":{\"standoff\":15},\"zerolinecolor\":\"white\",\"automargin\":true,\"zerolinewidth\":2},\"yaxis\":{\"gridcolor\":\"white\",\"linecolor\":\"white\",\"ticks\":\"\",\"title\":{\"standoff\":15},\"zerolinecolor\":\"white\",\"automargin\":true,\"zerolinewidth\":2},\"scene\":{\"xaxis\":{\"backgroundcolor\":\"#E5ECF6\",\"gridcolor\":\"white\",\"linecolor\":\"white\",\"showbackground\":true,\"ticks\":\"\",\"zerolinecolor\":\"white\",\"gridwidth\":2},\"yaxis\":{\"backgroundcolor\":\"#E5ECF6\",\"gridcolor\":\"white\",\"linecolor\":\"white\",\"showbackground\":true,\"ticks\":\"\",\"zerolinecolor\":\"white\",\"gridwidth\":2},\"zaxis\":{\"backgroundcolor\":\"#E5ECF6\",\"gridcolor\":\"white\",\"linecolor\":\"white\",\"showbackground\":true,\"ticks\":\"\",\"zerolinecolor\":\"white\",\"gridwidth\":2}},\"shapedefaults\":{\"line\":{\"color\":\"#2a3f5f\"}},\"annotationdefaults\":{\"arrowcolor\":\"#2a3f5f\",\"arrowhead\":0,\"arrowwidth\":1},\"geo\":{\"bgcolor\":\"white\",\"landcolor\":\"#E5ECF6\",\"subunitcolor\":\"white\",\"showland\":true,\"showlakes\":true,\"lakecolor\":\"white\"},\"title\":{\"x\":0.05},\"mapbox\":{\"style\":\"light\"}}},\"xaxis\":{\"anchor\":\"y\",\"domain\":[0.0,1.0],\"title\":{\"text\":\"Fruits\"}},\"yaxis\":{\"anchor\":\"x\",\"domain\":[0.0,1.0],\"title\":{\"text\":\"Count\"}},\"legend\":{\"tracegroupgap\":0},\"title\":{\"text\":\"Fruit Count\"},\"barmode\":\"relative\"},                        {\"responsive\": true}                    ).then(function(){\n",
              "                            \n",
              "var gd = document.getElementById('da84a2f8-8a12-4c79-a812-493503f6c4ba');\n",
              "var x = new MutationObserver(function (mutations, observer) {{\n",
              "        var display = window.getComputedStyle(gd).display;\n",
              "        if (!display || display === 'none') {{\n",
              "            console.log([gd, 'removed!']);\n",
              "            Plotly.purge(gd);\n",
              "            observer.disconnect();\n",
              "        }}\n",
              "}});\n",
              "\n",
              "// Listen for the removal of the full notebook cells\n",
              "var notebookContainer = gd.closest('#notebook-container');\n",
              "if (notebookContainer) {{\n",
              "    x.observe(notebookContainer, {childList: true});\n",
              "}}\n",
              "\n",
              "// Listen for the clearing of the current output cell\n",
              "var outputEl = gd.closest('.output');\n",
              "if (outputEl) {{\n",
              "    x.observe(outputEl, {childList: true});\n",
              "}}\n",
              "\n",
              "                        })                };                            </script>        </div>\n",
              "</body>\n",
              "</html>"
            ]
          },
          "metadata": {}
        }
      ],
      "source": [
        "import plotly.express as px\n",
        "data = {'Fruits': ['Apple', 'Banana', 'Orange'], 'Count': [10, 15, 7]}\n",
        "df = pd.DataFrame(data)\n",
        "fig = px.bar(df, x='Fruits', y='Count', title='Fruit Count')\n",
        "fig.show()"
      ]
    },
    {
      "cell_type": "markdown",
      "id": "16b0f6ab",
      "metadata": {
        "id": "16b0f6ab"
      },
      "source": [
        "###6. Create a DataFrame and add a new column based on an existing column"
      ]
    },
    {
      "cell_type": "code",
      "execution_count": 6,
      "id": "746a0fa0",
      "metadata": {
        "colab": {
          "base_uri": "https://localhost:8080/"
        },
        "id": "746a0fa0",
        "outputId": "d68bb6a1-9dcf-44a7-cec0-c8009a8ccd01"
      },
      "outputs": [
        {
          "output_type": "stream",
          "name": "stdout",
          "text": [
            "   A  B\n",
            "0  1  2\n",
            "1  2  4\n",
            "2  3  6\n"
          ]
        }
      ],
      "source": [
        "df = pd.DataFrame({'A': [1, 2, 3]})\n",
        "df['B'] = df['A'] * 2\n",
        "print(df)"
      ]
    },
    {
      "cell_type": "markdown",
      "id": "1532f3aa",
      "metadata": {
        "id": "1532f3aa"
      },
      "source": [
        "###7. Write a program to perform element-wise multiplication of two NumPy arrays"
      ]
    },
    {
      "cell_type": "code",
      "execution_count": 7,
      "id": "dfcf8258",
      "metadata": {
        "colab": {
          "base_uri": "https://localhost:8080/"
        },
        "id": "dfcf8258",
        "outputId": "6930d489-4004-40a3-9bfe-505036583763"
      },
      "outputs": [
        {
          "output_type": "stream",
          "name": "stdout",
          "text": [
            "Element-wise multiplication: [ 4 10 18]\n"
          ]
        }
      ],
      "source": [
        "import numpy as np\n",
        "a = np.array([1, 2, 3])\n",
        "b = np.array([4, 5, 6])\n",
        "result = a * b\n",
        "print(\"Element-wise multiplication:\", result)"
      ]
    },
    {
      "cell_type": "markdown",
      "id": "d1d04c2a",
      "metadata": {
        "id": "d1d04c2a"
      },
      "source": [
        "###8. Create a line plot with multiple lines using Matplotlib"
      ]
    },
    {
      "cell_type": "code",
      "execution_count": 8,
      "id": "37c931ef",
      "metadata": {
        "colab": {
          "base_uri": "https://localhost:8080/",
          "height": 452
        },
        "id": "37c931ef",
        "outputId": "e5fa46cf-7026-4557-b4d5-374cec4f29d8"
      },
      "outputs": [
        {
          "output_type": "display_data",
          "data": {
            "text/plain": [
              "<Figure size 640x480 with 1 Axes>"
            ],
            "image/png": "[encoded data removed]"
          },
          "metadata": {}
        }
      ],
      "source": [
        "x = [1, 2, 3, 4]\n",
        "y1 = [1, 4, 9, 16]\n",
        "y2 = [2, 5, 10, 17]\n",
        "plt.plot(x, y1, label='Line 1')\n",
        "plt.plot(x, y2, label='Line 2')\n",
        "plt.legend()\n",
        "plt.title(\"Multiple Lines\")\n",
        "plt.show()"
      ]
    },
    {
      "cell_type": "markdown",
      "id": "8cf37f70",
      "metadata": {
        "id": "8cf37f70"
      },
      "source": [
        "###9. Generate a Pandas DataFrame and filter rows where a column value is greater than a threshold"
      ]
    },
    {
      "cell_type": "code",
      "execution_count": 9,
      "id": "a11c8de4",
      "metadata": {
        "colab": {
          "base_uri": "https://localhost:8080/"
        },
        "id": "a11c8de4",
        "outputId": "ae3c0e03-1180-4e35-add1-9f5b87c65f79"
      },
      "outputs": [
        {
          "output_type": "stream",
          "name": "stdout",
          "text": [
            "    A\n",
            "2  30\n",
            "3  40\n"
          ]
        }
      ],
      "source": [
        "df = pd.DataFrame({'A': [10, 20, 30, 40]})\n",
        "filtered_df = df[df['A'] > 25]\n",
        "print(filtered_df)"
      ]
    },
    {
      "cell_type": "markdown",
      "id": "3929b0d1",
      "metadata": {
        "id": "3929b0d1"
      },
      "source": [
        "###10. Create a histogram using Seaborn to visualize a distribution"
      ]
    },
    {
      "cell_type": "code",
      "execution_count": 10,
      "id": "fc3c1b57",
      "metadata": {
        "colab": {
          "base_uri": "https://localhost:8080/",
          "height": 452
        },
        "id": "fc3c1b57",
        "outputId": "71336010-ac88-4153-df27-3256cc53789a"
      },
      "outputs": [
        {
          "output_type": "display_data",
          "data": {
            "text/plain": [
              "<Figure size 640x480 with 1 Axes>"
            ],
            "image/png": "[encoded data removed]"
          },
          "metadata": {}
        }
      ],
      "source": [
        "import seaborn as sns\n",
        "import numpy as np\n",
        "data = np.random.randn(100)\n",
        "sns.histplot(data, kde=True)\n",
        "plt.title(\"Histogram with KDE\")\n",
        "plt.show()"
      ]
    },
    {
      "cell_type": "markdown",
      "id": "512f5195",
      "metadata": {
        "id": "512f5195"
      },
      "source": [
        "###11. Perform matrix multiplication using NumPy"
      ]
    },
    {
      "cell_type": "code",
      "execution_count": 11,
      "id": "efd99572",
      "metadata": {
        "colab": {
          "base_uri": "https://localhost:8080/"
        },
        "id": "efd99572",
        "outputId": "84b3b1c9-3aee-4387-e9ad-312c785bc15e"
      },
      "outputs": [
        {
          "output_type": "stream",
          "name": "stdout",
          "text": [
            "Matrix multiplication result:\n",
            " [[19 22]\n",
            " [43 50]]\n"
          ]
        }
      ],
      "source": [
        "a = np.array([[1, 2], [3, 4]])\n",
        "b = np.array([[5, 6], [7, 8]])\n",
        "result = np.dot(a, b)\n",
        "print(\"Matrix multiplication result:\\n\", result)"
      ]
    },
    {
      "cell_type": "markdown",
      "id": "463c0511",
      "metadata": {
        "id": "463c0511"
      },
      "source": [
        "###12. Use Pandas to load a CSV file and display its first 5 rows"
      ]
    },
    {
      "cell_type": "code",
      "execution_count": 12,
      "id": "586db452",
      "metadata": {
        "colab": {
          "base_uri": "https://localhost:8080/"
        },
        "id": "586db452",
        "outputId": "f7846b8d-096f-43c2-98cf-48e1490f2c5f"
      },
      "outputs": [
        {
          "output_type": "stream",
          "name": "stdout",
          "text": [
            "   A  B\n",
            "0  1  3\n",
            "1  2  4\n"
          ]
        }
      ],
      "source": [
        "# Assuming a CSV file named 'data.csv' exists in the same directory\n",
        "# df = pd.read_csv('data.csv')\n",
        "# print(df.head())\n",
        "\n",
        "# For demonstration:\n",
        "df = pd.DataFrame({'A': [1, 2], 'B': [3, 4]})\n",
        "print(df.head())"
      ]
    },
    {
      "cell_type": "markdown",
      "id": "14d77b80",
      "metadata": {
        "id": "14d77b80"
      },
      "source": [
        "###13. Create a 3D scatter plot using Plotly"
      ]
    },
    {
      "cell_type": "code",
      "execution_count": 13,
      "id": "6d7d0e2f",
      "metadata": {
        "colab": {
          "base_uri": "https://localhost:8080/",
          "height": 542
        },
        "id": "6d7d0e2f",
        "outputId": "db82f5a3-4904-4589-8373-b73d6caf6b03"
      },
      "outputs": [
        {
          "output_type": "display_data",
          "data": {
            "text/html": [
              "<html>\n",
              "<head><meta charset=\"utf-8\" /></head>\n",
              "<body>\n",
              "    <div>            <script src=\"https://cdnjs.cloudflare.com/ajax/libs/mathjax/2.7.5/MathJax.js?config=TeX-AMS-MML_SVG\"></script><script type=\"text/javascript\">if (window.MathJax && window.MathJax.Hub && window.MathJax.Hub.Config) {window.MathJax.Hub.Config({SVG: {font: \"STIX-Web\"}});}</script>                <script type=\"text/javascript\">window.PlotlyConfig = {MathJaxConfig: 'local'};</script>\n",
              "        <script charset=\"utf-8\" src=\"https://cdn.plot.ly/plotly-2.35.2.min.js\"></script>                <div id=\"414a5330-6a2e-4042-bf53-246f3a934d05\" class=\"plotly-graph-div\" style=\"height:525px; width:100%;\"></div>            <script type=\"text/javascript\">                                    window.PLOTLYENV=window.PLOTLYENV || {};                                    if (document.getElementById(\"414a5330-6a2e-4042-bf53-246f3a934d05\")) {                    Plotly.newPlot(                        \"414a5330-6a2e-4042-bf53-246f3a934d05\",                        [{\"hovertemplate\":\"x=%{x}\\u003cbr\\u003ey=%{y}\\u003cbr\\u003ez=%{z}\\u003cextra\\u003e\\u003c\\u002fextra\\u003e\",\"legendgroup\":\"\",\"marker\":{\"color\":\"#636efa\",\"symbol\":\"circle\"},\"mode\":\"markers\",\"name\":\"\",\"scene\":\"scene\",\"showlegend\":false,\"x\":[0.02188043468840295,0.6408049850050535,0.7348274353276548,0.1851837597881386,0.9085221636501029,0.9503768337988996,0.1002003984200831,0.3694845332291897,0.4208271381695594,0.009363141954952137],\"y\":[0.40457732893009746,0.3626203285338171,0.2256606769815771,0.21089543434582203,0.364220036304599,0.8155511623684338,0.7371745651557706,0.20446677333797358,0.6496648610810211,0.512320959993719],\"z\":[0.8575263438445896,0.6883105537074014,0.8011116804328277,0.5903448143469818,0.249759047796279,0.24161769507442077,0.588015354525771,0.35779548748287493,0.5024365327622111,0.02480512501576937],\"type\":\"scatter3d\"}],                        {\"template\":{\"data\":{\"histogram2dcontour\":[{\"type\":\"histogram2dcontour\",\"colorbar\":{\"outlinewidth\":0,\"ticks\":\"\"},\"colorscale\":[[0.0,\"#0d0887\"],[0.1111111111111111,\"#46039f\"],[0.2222222222222222,\"#7201a8\"],[0.3333333333333333,\"#9c179e\"],[0.4444444444444444,\"#bd3786\"],[0.5555555555555556,\"#d8576b\"],[0.6666666666666666,\"#ed7953\"],[0.7777777777777778,\"#fb9f3a\"],[0.8888888888888888,\"#fdca26\"],[1.0,\"#f0f921\"]]}],\"choropleth\":[{\"type\":\"choropleth\",\"colorbar\":{\"outlinewidth\":0,\"ticks\":\"\"}}],\"histogram2d\":[{\"type\":\"histogram2d\",\"colorbar\":{\"outlinewidth\":0,\"ticks\":\"\"},\"colorscale\":[[0.0,\"#0d0887\"],[0.1111111111111111,\"#46039f\"],[0.2222222222222222,\"#7201a8\"],[0.3333333333333333,\"#9c179e\"],[0.4444444444444444,\"#bd3786\"],[0.5555555555555556,\"#d8576b\"],[0.6666666666666666,\"#ed7953\"],[0.7777777777777778,\"#fb9f3a\"],[0.8888888888888888,\"#fdca26\"],[1.0,\"#f0f921\"]]}],\"heatmap\":[{\"type\":\"heatmap\",\"colorbar\":{\"outlinewidth\":0,\"ticks\":\"\"},\"colorscale\":[[0.0,\"#0d0887\"],[0.1111111111111111,\"#46039f\"],[0.2222222222222222,\"#7201a8\"],[0.3333333333333333,\"#9c179e\"],[0.4444444444444444,\"#bd3786\"],[0.5555555555555556,\"#d8576b\"],[0.6666666666666666,\"#ed7953\"],[0.7777777777777778,\"#fb9f3a\"],[0.8888888888888888,\"#fdca26\"],[1.0,\"#f0f921\"]]}],\"heatmapgl\":[{\"type\":\"heatmapgl\",\"colorbar\":{\"outlinewidth\":0,\"ticks\":\"\"},\"colorscale\":[[0.0,\"#0d0887\"],[0.1111111111111111,\"#46039f\"],[0.2222222222222222,\"#7201a8\"],[0.3333333333333333,\"#9c179e\"],[0.4444444444444444,\"#bd3786\"],[0.5555555555555556,\"#d8576b\"],[0.6666666666666666,\"#ed7953\"],[0.7777777777777778,\"#fb9f3a\"],[0.8888888888888888,\"#fdca26\"],[1.0,\"#f0f921\"]]}],\"contourcarpet\":[{\"type\":\"contourcarpet\",\"colorbar\":{\"outlinewidth\":0,\"ticks\":\"\"}}],\"contour\":[{\"type\":\"contour\",\"colorbar\":{\"outlinewidth\":0,\"ticks\":\"\"},\"colorscale\":[[0.0,\"#0d0887\"],[0.1111111111111111,\"#46039f\"],[0.2222222222222222,\"#7201a8\"],[0.3333333333333333,\"#9c179e\"],[0.4444444444444444,\"#bd3786\"],[0.5555555555555556,\"#d8576b\"],[0.6666666666666666,\"#ed7953\"],[0.7777777777777778,\"#fb9f3a\"],[0.8888888888888888,\"#fdca26\"],[1.0,\"#f0f921\"]]}],\"surface\":[{\"type\":\"surface\",\"colorbar\":{\"outlinewidth\":0,\"ticks\":\"\"},\"colorscale\":[[0.0,\"#0d0887\"],[0.1111111111111111,\"#46039f\"],[0.2222222222222222,\"#7201a8\"],[0.3333333333333333,\"#9c179e\"],[0.4444444444444444,\"#bd3786\"],[0.5555555555555556,\"#d8576b\"],[0.6666666666666666,\"#ed7953\"],[0.7777777777777778,\"#fb9f3a\"],[0.8888888888888888,\"#fdca26\"],[1.0,\"#f0f921\"]]}],\"mesh3d\":[{\"type\":\"mesh3d\",\"colorbar\":{\"outlinewidth\":0,\"ticks\":\"\"}}],\"scatter\":[{\"fillpattern\":{\"fillmode\":\"overlay\",\"size\":10,\"solidity\":0.2},\"type\":\"scatter\"}],\"parcoords\":[{\"type\":\"parcoords\",\"line\":{\"colorbar\":{\"outlinewidth\":0,\"ticks\":\"\"}}}],\"scatterpolargl\":[{\"type\":\"scatterpolargl\",\"marker\":{\"colorbar\":{\"outlinewidth\":0,\"ticks\":\"\"}}}],\"bar\":[{\"error_x\":{\"color\":\"#2a3f5f\"},\"error_y\":{\"color\":\"#2a3f5f\"},\"marker\":{\"line\":{\"color\":\"#E5ECF6\",\"width\":0.5},\"pattern\":{\"fillmode\":\"overlay\",\"size\":10,\"solidity\":0.2}},\"type\":\"bar\"}],\"scattergeo\":[{\"type\":\"scattergeo\",\"marker\":{\"colorbar\":{\"outlinewidth\":0,\"ticks\":\"\"}}}],\"scatterpolar\":[{\"type\":\"scatterpolar\",\"marker\":{\"colorbar\":{\"outlinewidth\":0,\"ticks\":\"\"}}}],\"histogram\":[{\"marker\":{\"pattern\":{\"fillmode\":\"overlay\",\"size\":10,\"solidity\":0.2}},\"type\":\"histogram\"}],\"scattergl\":[{\"type\":\"scattergl\",\"marker\":{\"colorbar\":{\"outlinewidth\":0,\"ticks\":\"\"}}}],\"scatter3d\":[{\"type\":\"scatter3d\",\"line\":{\"colorbar\":{\"outlinewidth\":0,\"ticks\":\"\"}},\"marker\":{\"colorbar\":{\"outlinewidth\":0,\"ticks\":\"\"}}}],\"scattermapbox\":[{\"type\":\"scattermapbox\",\"marker\":{\"colorbar\":{\"outlinewidth\":0,\"ticks\":\"\"}}}],\"scatterternary\":[{\"type\":\"scatterternary\",\"marker\":{\"colorbar\":{\"outlinewidth\":0,\"ticks\":\"\"}}}],\"scattercarpet\":[{\"type\":\"scattercarpet\",\"marker\":{\"colorbar\":{\"outlinewidth\":0,\"ticks\":\"\"}}}],\"carpet\":[{\"aaxis\":{\"endlinecolor\":\"#2a3f5f\",\"gridcolor\":\"white\",\"linecolor\":\"white\",\"minorgridcolor\":\"white\",\"startlinecolor\":\"#2a3f5f\"},\"baxis\":{\"endlinecolor\":\"#2a3f5f\",\"gridcolor\":\"white\",\"linecolor\":\"white\",\"minorgridcolor\":\"white\",\"startlinecolor\":\"#2a3f5f\"},\"type\":\"carpet\"}],\"table\":[{\"cells\":{\"fill\":{\"color\":\"#EBF0F8\"},\"line\":{\"color\":\"white\"}},\"header\":{\"fill\":{\"color\":\"#C8D4E3\"},\"line\":{\"color\":\"white\"}},\"type\":\"table\"}],\"barpolar\":[{\"marker\":{\"line\":{\"color\":\"#E5ECF6\",\"width\":0.5},\"pattern\":{\"fillmode\":\"overlay\",\"size\":10,\"solidity\":0.2}},\"type\":\"barpolar\"}],\"pie\":[{\"automargin\":true,\"type\":\"pie\"}]},\"layout\":{\"autotypenumbers\":\"strict\",\"colorway\":[\"#636efa\",\"#EF553B\",\"#00cc96\",\"#ab63fa\",\"#FFA15A\",\"#19d3f3\",\"#FF6692\",\"#B6E880\",\"#FF97FF\",\"#FECB52\"],\"font\":{\"color\":\"#2a3f5f\"},\"hovermode\":\"closest\",\"hoverlabel\":{\"align\":\"left\"},\"paper_bgcolor\":\"white\",\"plot_bgcolor\":\"#E5ECF6\",\"polar\":{\"bgcolor\":\"#E5ECF6\",\"angularaxis\":{\"gridcolor\":\"white\",\"linecolor\":\"white\",\"ticks\":\"\"},\"radialaxis\":{\"gridcolor\":\"white\",\"linecolor\":\"white\",\"ticks\":\"\"}},\"ternary\":{\"bgcolor\":\"#E5ECF6\",\"aaxis\":{\"gridcolor\":\"white\",\"linecolor\":\"white\",\"ticks\":\"\"},\"baxis\":{\"gridcolor\":\"white\",\"linecolor\":\"white\",\"ticks\":\"\"},\"caxis\":{\"gridcolor\":\"white\",\"linecolor\":\"white\",\"ticks\":\"\"}},\"coloraxis\":{\"colorbar\":{\"outlinewidth\":0,\"ticks\":\"\"}},\"colorscale\":{\"sequential\":[[0.0,\"#0d0887\"],[0.1111111111111111,\"#46039f\"],[0.2222222222222222,\"#7201a8\"],[0.3333333333333333,\"#9c179e\"],[0.4444444444444444,\"#bd3786\"],[0.5555555555555556,\"#d8576b\"],[0.6666666666666666,\"#ed7953\"],[0.7777777777777778,\"#fb9f3a\"],[0.8888888888888888,\"#fdca26\"],[1.0,\"#f0f921\"]],\"sequentialminus\":[[0.0,\"#0d0887\"],[0.1111111111111111,\"#46039f\"],[0.2222222222222222,\"#7201a8\"],[0.3333333333333333,\"#9c179e\"],[0.4444444444444444,\"#bd3786\"],[0.5555555555555556,\"#d8576b\"],[0.6666666666666666,\"#ed7953\"],[0.7777777777777778,\"#fb9f3a\"],[0.8888888888888888,\"#fdca26\"],[1.0,\"#f0f921\"]],\"diverging\":[[0,\"#8e0152\"],[0.1,\"#c51b7d\"],[0.2,\"#de77ae\"],[0.3,\"#f1b6da\"],[0.4,\"#fde0ef\"],[0.5,\"#f7f7f7\"],[0.6,\"#e6f5d0\"],[0.7,\"#b8e186\"],[0.8,\"#7fbc41\"],[0.9,\"#4d9221\"],[1,\"#276419\"]]},\"xaxis\":{\"gridcolor\":\"white\",\"linecolor\":\"white\",\"ticks\":\"\",\"title\":{\"standoff\":15},\"zerolinecolor\":\"white\",\"automargin\":true,\"zerolinewidth\":2},\"yaxis\":{\"gridcolor\":\"white\",\"linecolor\":\"white\",\"ticks\":\"\",\"title\":{\"standoff\":15},\"zerolinecolor\":\"white\",\"automargin\":true,\"zerolinewidth\":2},\"scene\":{\"xaxis\":{\"backgroundcolor\":\"#E5ECF6\",\"gridcolor\":\"white\",\"linecolor\":\"white\",\"showbackground\":true,\"ticks\":\"\",\"zerolinecolor\":\"white\",\"gridwidth\":2},\"yaxis\":{\"backgroundcolor\":\"#E5ECF6\",\"gridcolor\":\"white\",\"linecolor\":\"white\",\"showbackground\":true,\"ticks\":\"\",\"zerolinecolor\":\"white\",\"gridwidth\":2},\"zaxis\":{\"backgroundcolor\":\"#E5ECF6\",\"gridcolor\":\"white\",\"linecolor\":\"white\",\"showbackground\":true,\"ticks\":\"\",\"zerolinecolor\":\"white\",\"gridwidth\":2}},\"shapedefaults\":{\"line\":{\"color\":\"#2a3f5f\"}},\"annotationdefaults\":{\"arrowcolor\":\"#2a3f5f\",\"arrowhead\":0,\"arrowwidth\":1},\"geo\":{\"bgcolor\":\"white\",\"landcolor\":\"#E5ECF6\",\"subunitcolor\":\"white\",\"showland\":true,\"showlakes\":true,\"lakecolor\":\"white\"},\"title\":{\"x\":0.05},\"mapbox\":{\"style\":\"light\"}}},\"scene\":{\"domain\":{\"x\":[0.0,1.0],\"y\":[0.0,1.0]},\"xaxis\":{\"title\":{\"text\":\"x\"}},\"yaxis\":{\"title\":{\"text\":\"y\"}},\"zaxis\":{\"title\":{\"text\":\"z\"}}},\"legend\":{\"tracegroupgap\":0},\"title\":{\"text\":\"3D Scatter Plot\"}},                        {\"responsive\": true}                    ).then(function(){\n",
              "                            \n",
              "var gd = document.getElementById('414a5330-6a2e-4042-bf53-246f3a934d05');\n",
              "var x = new MutationObserver(function (mutations, observer) {{\n",
              "        var display = window.getComputedStyle(gd).display;\n",
              "        if (!display || display === 'none') {{\n",
              "            console.log([gd, 'removed!']);\n",
              "            Plotly.purge(gd);\n",
              "            observer.disconnect();\n",
              "        }}\n",
              "}});\n",
              "\n",
              "// Listen for the removal of the full notebook cells\n",
              "var notebookContainer = gd.closest('#notebook-container');\n",
              "if (notebookContainer) {{\n",
              "    x.observe(notebookContainer, {childList: true});\n",
              "}}\n",
              "\n",
              "// Listen for the clearing of the current output cell\n",
              "var outputEl = gd.closest('.output');\n",
              "if (outputEl) {{\n",
              "    x.observe(outputEl, {childList: true});\n",
              "}}\n",
              "\n",
              "                        })                };                            </script>        </div>\n",
              "</body>\n",
              "</html>"
            ]
          },
          "metadata": {}
        }
      ],
      "source": [
        "import plotly.express as px\n",
        "import pandas as pd\n",
        "import numpy as np\n",
        "df = pd.DataFrame({'x': np.random.rand(10), 'y': np.random.rand(10), 'z': np.random.rand(10)})\n",
        "fig = px.scatter_3d(df, x='x', y='y', z='z', title=\"3D Scatter Plot\")\n",
        "fig.show()"
      ]
    },
    {
      "cell_type": "code",
      "source": [],
      "metadata": {
        "id": "t_UmbaUUzYBV"
      },
      "id": "t_UmbaUUzYBV",
      "execution_count": null,
      "outputs": []
    }
  ],
  "metadata": {
    "colab": {
      "provenance": []
    },
    "language_info": {
      "name": "python"
    },
    "kernelspec": {
      "name": "python3",
      "display_name": "Python 3"
    }
  },
  "nbformat": 4,
  "nbformat_minor": 5
}